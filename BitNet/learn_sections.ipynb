{
 "cells": [
  {
   "cell_type": "code",
   "execution_count": null,
   "id": "83175cdd-df67-4892-89be-f595fff55b6a",
   "metadata": {},
   "outputs": [],
   "source": [
    "from fastai.tabular.all import *\n",
    "import pandas as pd\n",
    "import numpy as np\n",
    "import pickle\n",
    "import os"
   ]
  },
  {
   "cell_type": "code",
   "execution_count": null,
   "id": "b402d7f3-3564-458c-87e0-ec25a5400845",
   "metadata": {},
   "outputs": [],
   "source": [
    "training_path = 'E:/BitBot/training_data_sections/'\n",
    "symbols, timestamps_train, timestamps_valid = set(), set(), set()\n",
    "for filename in os.listdir(training_path):\n",
    "    symbols.add(filename[11:-11].replace('.csv', ''))\n",
    "    if 'train' in filename:\n",
    "        timestamps_train.add(filename[:10])\n",
    "    elif 'valid' in filename:\n",
    "        timestamps_valid.add(filename[:10])\n",
    "\n",
    "symbols = list(symbols)\n",
    "timestamps_train, timestamps_valid = sorted(list(timestamps_train)), sorted(list(timestamps_valid))\n",
    "timestamps = {}\n",
    "for timestamp_train, timestamp_valid in zip(timestamps_train, timestamps_valid):\n",
    "    timestamps[timestamp_train] = timestamp_valid\n",
    "\n",
    "print(symbols)\n",
    "print(list(timestamps))"
   ]
  },
  {
   "cell_type": "code",
   "execution_count": null,
   "id": "c756051f-a308-47d2-8eea-03b46a0be8f2",
   "metadata": {},
   "outputs": [],
   "source": [
    "def read_training_data(timestamp_train, timestamp_valid):\n",
    "    dfs_train, dfs_valid = [], []\n",
    "    for filename in os.listdir(training_path):\n",
    "        if timestamp_train in filename and 'train' in filename:\n",
    "            dfs_train.append(pd.read_csv(training_path + filename))\n",
    "        elif timestamp_valid in filename and 'valid' in filename:\n",
    "            dfs_valid.append(pd.read_csv(training_path + filename))\n",
    "    dfs_train, dfs_valid = pd.concat(dfs_train), pd.concat(dfs_valid)\n",
    "    return dfs_train, dfs_valid"
   ]
  },
  {
   "cell_type": "code",
   "execution_count": null,
   "id": "2ce02840-3556-4fc4-8cd2-542db516c029",
   "metadata": {},
   "outputs": [],
   "source": [
    "def make_splits(dfs_train, dfs_valid):\n",
    "    len_train, len_valid = dfs_train.shape[0], dfs_valid.shape[0]\n",
    "    splits = [\n",
    "        list(range(0, len_train)),\n",
    "        list(range(len_train, len_train + len_valid))\n",
    "    ]\n",
    "    df = pd.concat([dfs_train, dfs_valid])\n",
    "    return df, splits"
   ]
  },
  {
   "cell_type": "code",
   "execution_count": null,
   "id": "92f3ee39-1b66-4551-9e02-f832eadcedd8",
   "metadata": {},
   "outputs": [],
   "source": [
    "def make_dataloader(df):\n",
    "    cat_names = list(df.columns)[-len(symbols)-1:-1]\n",
    "    cont_names = list(df.columns)[:-len(symbols)-1]\n",
    "    y_names = list(df.columns)[-1:]\n",
    "    to = TabularPandas(df, procs=[Categorify], cat_names=cat_names, cont_names=cont_names, y_names=y_names, splits=splits)\n",
    "    dataloader = to.dataloaders(bs=2**9)\n",
    "    return dataloader"
   ]
  },
  {
   "cell_type": "code",
   "execution_count": null,
   "id": "0f2128a8-8a06-41f0-a6c2-05141e496288",
   "metadata": {},
   "outputs": [],
   "source": [
    "def train(dataloader):\n",
    "    learn = tabular_learner(dataloader, metrics=rmse)\n",
    "    learn.fit_one_cycle(5, lr_max=2e-5)\n",
    "    return learn"
   ]
  },
  {
   "cell_type": "code",
   "execution_count": null,
   "id": "248f54c5-8912-44e4-869e-268f29f1073e",
   "metadata": {},
   "outputs": [],
   "source": [
    "def make_predictions(timestamp, df, learn):\n",
    "    dl_train = DataLoader(dataset=df.iloc[splits[0]])\n",
    "    df_val = DataLoader(dataset=df.iloc[splits[1]])\n",
    "    df_train, df_val = df.iloc[splits[0]], df.iloc[splits[1]]\n",
    "    dl_train = learn.dls.test_dl(df_train)\n",
    "    dl_val = learn.dls.test_dl(df_val)\n",
    "    pred_train, gt_train = learn.get_preds(dl=dl_train)\n",
    "    pred_val, gt_val = learn.get_preds(dl=dl_val)\n",
    "    with open(f'preds_{timestamp}.pickle', 'wb') as f:\n",
    "        pickle.dump({\n",
    "            'pred_train': pred_train.squeeze(),\n",
    "            'gt_train': gt_train.squeeze(),\n",
    "            'pred_val': pred_val.squeeze(),\n",
    "            'gt_val': gt_val.squeeze()\n",
    "        }, f)"
   ]
  },
  {
   "cell_type": "code",
   "execution_count": null,
   "id": "cb6e3a31-548f-4df4-81e4-69270266d879",
   "metadata": {},
   "outputs": [],
   "source": [
    "for timestamp_train in timestamps:\n",
    "    timestamp_valid = timestamps[timestamp_train]\n",
    "    print(timestamp_train, timestamp_valid)\n",
    "    dfs_train, dfs_valid = read_training_data(timestamp_train, timestamp_valid)\n",
    "    df, splits = make_splits(dfs_train, dfs_valid)\n",
    "    dataloader = make_dataloader(df)\n",
    "    learn = train(dataloader)\n",
    "    make_predictions(timestamp_train, df, learn)"
   ]
  },
  {
   "cell_type": "code",
   "execution_count": null,
   "id": "c6841f7f-fb0f-46cd-8daf-08b531923248",
   "metadata": {},
   "outputs": [],
   "source": [
    "#learn = tabular_learner(dataloader, metrics=rmse)\n",
    "#learn.lr_find()\n",
    "#learn.fit(n_epoch=2, lr=5e-5)\n",
    "#learn.export(f'model_section_{year}-{month:02}.pickle')\n",
    "#break"
   ]
  },
  {
   "cell_type": "code",
   "execution_count": null,
   "id": "ecd9e829-e07e-4656-a8de-ccbedf270974",
   "metadata": {},
   "outputs": [],
   "source": [
    "learn = tabular_learner(dataloader, metrics=rmse)\n",
    "learn.fit(n_epoch=1, lr=1e-3)\n",
    "learn.fit(n_epoch=1, lr=1e-4)\n",
    "learn.fit(n_epoch=1, lr=5e-5)\n",
    "learn.fit(n_epoch=1, lr=2e-5)\n",
    "learn.fit(n_epoch=1, lr=1e-5)\n",
    "learn.fit(n_epoch=1, lr=5e-6)\n",
    "#learn.fit(n_epoch=1, lr=2e-6)\n",
    "#learn.fit(n_epoch=1, lr=1e-6)"
   ]
  },
  {
   "cell_type": "code",
   "execution_count": null,
   "id": "2e9c6037-8e15-45d8-8fd3-a0b57f9f4ce2",
   "metadata": {},
   "outputs": [],
   "source": [
    "learn = tabular_learner(dataloader, metrics=rmse)\n",
    "learn.fit_one_cycle(5, lr_max=3e-5)"
   ]
  },
  {
   "cell_type": "code",
   "execution_count": null,
   "id": "ba19cb72-5883-4da0-9f45-6df43da79508",
   "metadata": {},
   "outputs": [],
   "source": [
    "#learn.export('model_all_a.pickle')"
   ]
  },
  {
   "cell_type": "code",
   "execution_count": null,
   "id": "93a102c1-f4bf-4a7a-bcb2-d53bacc5960d",
   "metadata": {},
   "outputs": [],
   "source": [
    "dl_train = DataLoader(dataset=df.iloc[splits[0]])\n",
    "df_val = DataLoader(dataset=df.iloc[splits[1]])\n",
    "df_train, df_val = df.iloc[splits[0]], df.iloc[splits[1]]\n",
    "dl_train = learn.dls.test_dl(df_train)\n",
    "dl_val = learn.dls.test_dl(df_val)"
   ]
  },
  {
   "cell_type": "code",
   "execution_count": null,
   "id": "383448b1-009b-482b-a944-646ed94a8014",
   "metadata": {},
   "outputs": [],
   "source": [
    "pred_train, gt_train = learn.get_preds(dl=dl_train)\n",
    "pred_val, gt_val = learn.get_preds(dl=dl_val)\n",
    "import pickle\n",
    "with open('preds.pickle', 'wb') as f:\n",
    "    pickle.dump({\n",
    "        'pred_train': pred_train.squeeze(),\n",
    "        'gt_train': gt_train.squeeze(),\n",
    "        'pred_val': pred_val.squeeze(),\n",
    "        'gt_val': gt_val.squeeze()\n",
    "    }, f)"
   ]
  },
  {
   "cell_type": "code",
   "execution_count": null,
   "id": "a4c74a09-3b54-413e-815b-a2c15eed5555",
   "metadata": {},
   "outputs": [],
   "source": []
  }
 ],
 "metadata": {
  "kernelspec": {
   "display_name": "Python 3",
   "language": "python",
   "name": "python3"
  },
  "language_info": {
   "codemirror_mode": {
    "name": "ipython",
    "version": 3
   },
   "file_extension": ".py",
   "mimetype": "text/x-python",
   "name": "python",
   "nbconvert_exporter": "python",
   "pygments_lexer": "ipython3",
   "version": "3.9.5"
  }
 },
 "nbformat": 4,
 "nbformat_minor": 5
}
