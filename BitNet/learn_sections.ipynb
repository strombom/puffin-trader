{
 "cells": [
  {
   "cell_type": "code",
   "execution_count": 1,
   "id": "aeb5a519-65da-4207-af10-a396eca8b9f4",
   "metadata": {},
   "outputs": [],
   "source": [
    "from fastai.tabular.all import *\n",
    "from tqdm.autonotebook import tqdm\n",
    "import pandas as pd\n",
    "import numpy as np\n",
    "import pickle\n",
    "import os"
   ]
  },
  {
   "cell_type": "code",
   "execution_count": 2,
   "id": "a060e30d-8a72-4504-b1a8-87f3e03d98d2",
   "metadata": {},
   "outputs": [],
   "source": [
    "training_path = 'E:/BitBot/training_data_sections/'\n",
    "models_path = 'E:/BitBot/models'\n",
    "if not os.path.exists(models_path):\n",
    "    os.makedirs(models_path)"
   ]
  },
  {
   "cell_type": "code",
   "execution_count": 39,
   "id": "c79fd04e-69b2-4e04-a8b7-9145f98974ba",
   "metadata": {},
   "outputs": [
    {
     "name": "stdout",
     "output_type": "stream",
     "text": [
      "['ADAUSDT', 'ATOMUSDT', 'BCHUSDT', 'BNBUSDT', 'BTCUSDT', 'BTTUSDT', 'CHZUSDT', 'DOGEUSDT', 'EOSUSDT', 'ETCUSDT', 'ETHUSDT', 'FTMUSDT', 'LINKUSDT', 'LTCUSDT', 'MATICUSDT', 'NEOUSDT', 'THETAUSDT', 'TRXUSDT', 'VETUSDT', 'XLMUSDT', 'XRPUSDT']\n",
      "{'2020-01-03': '2020-07-03', '2020-01-04': '2020-07-04', '2020-01-05': '2020-07-05', '2020-01-06': '2020-07-06', '2020-01-07': '2020-07-07', '2020-01-08': '2020-07-08', '2020-01-09': '2020-07-09', '20\n"
     ]
    }
   ],
   "source": [
    "# Read symbols and timestamps\n",
    "first_timestamp = set()\n",
    "symbols, timestamps_train, timestamps_valid = set(), set(), set()\n",
    "for filename in os.listdir(training_path):\n",
    "    if 'train' in filename:\n",
    "        timestamps_train.add(filename[:10])\n",
    "    elif 'val' in filename:\n",
    "        timestamps_valid.add(filename[:10])\n",
    "    else:\n",
    "        symbols.add(filename[11:-4])\n",
    "        first_timestamp.add(filename[:10])\n",
    "\n",
    "first_timestamp = first_timestamp.pop()\n",
    "\n",
    "symbols = sorted(list(symbols))\n",
    "timestamps_train, timestamps_valid = sorted(list(timestamps_train)), sorted(list(timestamps_valid))\n",
    "timestamps = {}\n",
    "for timestamp_train, timestamp_valid in zip(timestamps_train, timestamps_valid):\n",
    "    timestamps[timestamp_train] = timestamp_valid\n",
    "timestamps_valid = timestamps\n",
    "timestamps_train = list(timestamps.keys())\n",
    "del timestamps\n",
    "\n",
    "print(symbols)\n",
    "print(str(timestamps_valid)[:min(200, len(str(timestamps_valid)))])"
   ]
  },
  {
   "cell_type": "code",
   "execution_count": 40,
   "id": "f96d3614-b47e-4987-941e-2504788d445a",
   "metadata": {},
   "outputs": [
    {
     "data": {
      "application/vnd.jupyter.widget-view+json": {
       "model_id": "7771fc654d814b8e837de51fac6c07e2",
       "version_major": 2,
       "version_minor": 0
      },
      "text/plain": [
       "HBox(children=(FloatProgress(value=0.0, description='Read data', max=21.0, style=ProgressStyle(description_wid…"
      ]
     },
     "metadata": {},
     "output_type": "display_data"
    },
    {
     "name": "stdout",
     "output_type": "stream",
     "text": [
      "\n"
     ]
    },
    {
     "data": {
      "application/vnd.jupyter.widget-view+json": {
       "model_id": "70e8ed6a603f4837868a5bc18a09e7cb",
       "version_major": 2,
       "version_minor": 0
      },
      "text/plain": [
       "HBox(children=(FloatProgress(value=0.0, description='Read indices', max=456.0, style=ProgressStyle(description…"
      ]
     },
     "metadata": {},
     "output_type": "display_data"
    },
    {
     "name": "stdout",
     "output_type": "stream",
     "text": [
      "\n"
     ]
    }
   ],
   "source": [
    "# Read training data\n",
    "#symbols = ['ADAUSDT', 'ATOMUSDT']\n",
    "#timestamps_train = timestamps_train[0:4]\n",
    "\n",
    "training_data = {}\n",
    "for symbol in tqdm(symbols, desc='Read data'):\n",
    "    filename = first_timestamp + \"_\" + symbol + \".csv\"\n",
    "    df = pd.read_csv(training_path + filename, index_col='ind_idx')\n",
    "    training_data[symbol] = df\n",
    "\n",
    "train_idc, val_idc = {}, {}\n",
    "for timestamp in tqdm(timestamps_train, desc='Read indices'):\n",
    "    train_idc[timestamp], val_idc[timestamp] = {}, {}\n",
    "    for symbol in symbols:\n",
    "        train_idc[timestamp][symbol] = list(pd.read_csv(training_path + timestamp + \"_train_\" + symbol + \".csv\")['ind_idx'])\n",
    "        val_idc[timestamp][symbol] = list(pd.read_csv(training_path + timestamps_valid[timestamp] + \"_val_\" + symbol + \".csv\")['ind_idx'])"
   ]
  },
  {
   "cell_type": "code",
   "execution_count": null,
   "id": "66a73bf2-ae55-4ca2-9b39-92337545318c",
   "metadata": {},
   "outputs": [],
   "source": [
    "\n",
    "    column_count = 0\n",
    "    for filename in os.listdir(training_path):\n",
    "        is_train = timestamp_train in filename\n",
    "        is_valid = timestamp_valid in filename\n",
    "        if not is_train and not is_valid:\n",
    "            continue\n",
    "        df = pd.read_csv(training_path + filename)\n",
    "        if column_count == 0:\n",
    "            column_count = len(df.columns)\n",
    "        elif column_count != len(df.columns):\n",
    "            print(\"Bad file\", training_path + filename)\n",
    "            print(df.columns)\n",
    "            return None, None\n",
    "        if timestamp_train in filename and 'train' in filename:            \n",
    "            dfs_train.append(df)\n",
    "        elif timestamp_valid in filename and 'valid' in filename:\n",
    "            dfs_valid.append(df)\n",
    "    dfs_train, dfs_valid = pd.concat(dfs_train), pd.concat(dfs_valid)\n",
    "    return dfs_train, dfs_valid"
   ]
  },
  {
   "cell_type": "code",
   "execution_count": 63,
   "id": "2cd5e81a-b79e-4398-a554-f9be1b11385e",
   "metadata": {},
   "outputs": [],
   "source": [
    "def make_training_data(timestamp):\n",
    "    timestamp_train, timestamp_valid = timestamp, timestamps_valid[timestamp]\n",
    "    dfs_train, dfs_valid = [], []\n",
    "    for symbol in symbols:\n",
    "        dfs_train.append(training_data[symbol].loc[training_data[symbol].index[train_idc[timestamp_train][symbol]]])\n",
    "        dfs_valid.append(training_data[symbol].loc[training_data[symbol].index[val_idc[timestamp_train][symbol]]])\n",
    "        #dfs_train.append(training_data[symbol].iloc[train_idc[timestamp_train][symbol]])\n",
    "        #dfs_valid.append(training_data[symbol].iloc[val_idc[timestamp_train][symbol]])\n",
    "    dfs_train, dfs_valid = pd.concat(dfs_train), pd.concat(dfs_valid)\n",
    "    dfs_train.reset_index(drop=True, inplace=True)\n",
    "    dfs_valid.reset_index(drop=True, inplace=True)\n",
    "    return dfs_train, dfs_valid\n",
    "\n",
    "#timestamp = timestamps_train[0]\n",
    "#df_train, df_valid = make_training_data(timestamp)\n",
    "#print(df_valid[['ADAUSDT', 'ATOMUSDT', 'BTCUSDT']])"
   ]
  },
  {
   "cell_type": "code",
   "execution_count": 64,
   "id": "f7ebc38c-7800-4046-b5a6-3d2abb4a8a5c",
   "metadata": {},
   "outputs": [],
   "source": [
    "def make_splits(dfs_train, dfs_valid):\n",
    "    len_train, len_valid = dfs_train.shape[0], dfs_valid.shape[0]\n",
    "    splits = [\n",
    "        list(range(0, len_train)),\n",
    "        list(range(len_train, len_train + len_valid))\n",
    "    ]\n",
    "    df = pd.concat([dfs_train, dfs_valid])\n",
    "    return df, splits"
   ]
  },
  {
   "cell_type": "code",
   "execution_count": 81,
   "id": "92f3ee39-1b66-4551-9e02-f832eadcedd8",
   "metadata": {},
   "outputs": [],
   "source": [
    "def make_dataloader(df, splits):\n",
    "    #print(df.columns)\n",
    "    y_count = 13\n",
    "    cat_names = list(df.columns)[-len(symbols)-y_count:-y_count]\n",
    "    cont_names = list(df.columns)[1:-len(symbols)-y_count]\n",
    "    y_names = list(df.columns)[-y_count:]\n",
    "    #print(cat_names)\n",
    "    #print(cont_names)\n",
    "    #print(y_names)\n",
    "    to = TabularPandas(df, procs=[Categorify], cat_names=cat_names, cont_names=cont_names, y_names=y_names, splits=splits)\n",
    "    dataloader = to.dataloaders(bs=2**10)\n",
    "    return dataloader"
   ]
  },
  {
   "cell_type": "code",
   "execution_count": 82,
   "id": "0f2128a8-8a06-41f0-a6c2-05141e496288",
   "metadata": {},
   "outputs": [],
   "source": [
    "def train(dataloader):\n",
    "    learn = tabular_learner(dataloader, layers=[500, 400, 300, 200, 150, 100, 50], metrics=rmse)\n",
    "    learn.fit_one_cycle(5, lr_max=5e-5)\n",
    "    return learn"
   ]
  },
  {
   "cell_type": "code",
   "execution_count": 83,
   "id": "2753f7ca-7de5-4281-b81e-8aaf27d97204",
   "metadata": {},
   "outputs": [],
   "source": [
    "def make_predictions(timestamp, df, learn, splits):\n",
    "    dl_train = DataLoader(dataset=df.iloc[splits[0]])\n",
    "    df_val = DataLoader(dataset=df.iloc[splits[1]])\n",
    "    df_train, df_val = df.iloc[splits[0]], df.iloc[splits[1]]\n",
    "    dl_train = learn.dls.test_dl(df_train)\n",
    "    dl_val = learn.dls.test_dl(df_val)\n",
    "    pred_train, gt_train = learn.get_preds(dl=dl_train)\n",
    "    pred_val, gt_val = learn.get_preds(dl=dl_val)\n",
    "    os.makedirs('preds', exist_ok=True)\n",
    "    with open(f'preds/preds_{timestamp}.pickle', 'wb') as f:\n",
    "        pickle.dump({\n",
    "            'pred_train': pred_train.squeeze(),\n",
    "            'gt_train': gt_train.squeeze(),\n",
    "            'pred_val': pred_val.squeeze(),\n",
    "            'gt_val': gt_val.squeeze()\n",
    "        }, f)"
   ]
  },
  {
   "cell_type": "code",
   "execution_count": null,
   "id": "d225ad7b-45db-46cb-8bcc-5c546ba02d57",
   "metadata": {},
   "outputs": [
    {
     "name": "stdout",
     "output_type": "stream",
     "text": [
      "2020-01-03 - 2020-07-03\n"
     ]
    }
   ],
   "source": [
    "#started = False\n",
    "for timestamp_train in timestamps_train:\n",
    "    #if timestamp_train == \"2020-07-13\":\n",
    "    #    started = True\n",
    "    #if not started:\n",
    "    #    continue\n",
    "    \n",
    "    timestamp_valid = timestamps_valid[timestamp_train]\n",
    "    print(f\"{timestamp_train} - {timestamp_valid}\")\n",
    "    dfs_train, dfs_valid = make_training_data(timestamp_train)\n",
    "    df, splits = make_splits(dfs_train, dfs_valid)\n",
    "    dataloader = make_dataloader(df, splits)\n",
    "    learn = train(dataloader)\n",
    "    make_predictions(timestamp_train, df, learn, splits)\n",
    "    learn.export(models_path + f\"/model_{timestamp_train}_{timestamp_valid}.pickle\")\n",
    "    \n",
    "    break"
   ]
  },
  {
   "cell_type": "code",
   "execution_count": null,
   "id": "f13e98a7-573a-49b1-a6ce-25517ba42bee",
   "metadata": {},
   "outputs": [],
   "source": [
    "df"
   ]
  },
  {
   "cell_type": "code",
   "execution_count": null,
   "id": "e38f43aa-40d9-43f2-b821-1fc1a670e7a0",
   "metadata": {},
   "outputs": [],
   "source": [
    "learn.show_results(max_n=10)"
   ]
  },
  {
   "cell_type": "code",
   "execution_count": null,
   "id": "8540cf6d-dca5-4425-b6b1-e2682332e418",
   "metadata": {},
   "outputs": [],
   "source": [
    "test_dl = learn.dls.test_dl(df)"
   ]
  },
  {
   "cell_type": "code",
   "execution_count": null,
   "id": "ed4f1336-0067-4139-8720-ddfb3536bbfb",
   "metadata": {},
   "outputs": [],
   "source": [
    "df = pd.read_csv(\"E:/BitBot/training_data_sections/2021-07-21_XRPUSDT_valid.csv\")"
   ]
  },
  {
   "cell_type": "code",
   "execution_count": null,
   "id": "d7af308f-f2b8-4f64-b3de-2f7ff2d4b898",
   "metadata": {},
   "outputs": [],
   "source": [
    "test_dl = learn.dls.test_dl(df)"
   ]
  },
  {
   "cell_type": "code",
   "execution_count": null,
   "id": "82ff2803-f04b-4eb1-99d5-0cb59bb7fa3a",
   "metadata": {},
   "outputs": [],
   "source": [
    "preds = learn.get_preds(dl=test_dl)"
   ]
  },
  {
   "cell_type": "code",
   "execution_count": null,
   "id": "aa7ed9bf-59da-499c-8c19-2413ad3d8a9f",
   "metadata": {},
   "outputs": [],
   "source": [
    "preds[0].numpy()"
   ]
  },
  {
   "cell_type": "code",
   "execution_count": null,
   "id": "68834f43-3259-4b17-a625-9878094817ef",
   "metadata": {},
   "outputs": [],
   "source": []
  }
 ],
 "metadata": {
  "kernelspec": {
   "display_name": "Python 3",
   "language": "python",
   "name": "python3"
  },
  "language_info": {
   "codemirror_mode": {
    "name": "ipython",
    "version": 3
   },
   "file_extension": ".py",
   "mimetype": "text/x-python",
   "name": "python",
   "nbconvert_exporter": "python",
   "pygments_lexer": "ipython3",
   "version": "3.9.7"
  }
 },
 "nbformat": 4,
 "nbformat_minor": 5
}
