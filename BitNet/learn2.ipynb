{
 "cells": [
  {
   "cell_type": "code",
   "execution_count": null,
   "id": "3f300526-3149-4ad2-bd60-df1acb9f3944",
   "metadata": {},
   "outputs": [],
   "source": [
    "from fastai.tabular.all import *\n",
    "import pandas as pd\n",
    "import numpy as np\n",
    "import pickle\n",
    "import os "
   ]
  },
  {
   "cell_type": "code",
   "execution_count": null,
   "id": "3c09d3e7-a983-4534-b0b8-b21519d562dd",
   "metadata": {},
   "outputs": [],
   "source": [
    "symbols, dfs = [], []\n",
    "training_path = 'E:/BitBot/training_data/'\n",
    "for filename in os.listdir(training_path):\n",
    "    symbols.append(filename.replace('.csv', ''))\n",
    "    dfs.append(pd.read_csv(training_path + filename))"
   ]
  },
  {
   "cell_type": "code",
   "execution_count": null,
   "id": "4e71e65f-74f4-4d67-8c69-fc528e5dc296",
   "metadata": {},
   "outputs": [],
   "source": [
    "df = pd.concat(dfs)"
   ]
  },
  {
   "cell_type": "code",
   "execution_count": null,
   "id": "7e8008d5-3579-4044-8441-d05d44e7e0f2",
   "metadata": {},
   "outputs": [],
   "source": [
    "df"
   ]
  },
  {
   "cell_type": "code",
   "execution_count": null,
   "id": "d3409a91-befc-420d-a74c-07dcf75377d5",
   "metadata": {},
   "outputs": [],
   "source": [
    "cat_names = list(df.columns)[-len(symbols)-1:-1]\n",
    "cont_names = list(df.columns)[:-len(symbols)-1]\n",
    "y_names = list(df.columns)[-1:]"
   ]
  },
  {
   "cell_type": "code",
   "execution_count": null,
   "id": "9fcc8feb-e3ab-4288-b421-0ffcfe5bf709",
   "metadata": {},
   "outputs": [],
   "source": [
    "if False:\n",
    "    splits = RandomSplitter(valid_pct=0.2)(range_of(df))\n",
    "else:\n",
    "    all_indices = list(range_of(df))\n",
    "    split_idx = int(len(all_indices) * 0.9)\n",
    "    splits = (all_indices[:split_idx], all_indices[split_idx:])"
   ]
  },
  {
   "cell_type": "code",
   "execution_count": null,
   "id": "33e31ed3-235d-4e27-85c7-573d0c59354c",
   "metadata": {},
   "outputs": [],
   "source": [
    "to = TabularPandas(df, procs=[Categorify], cat_names=cat_names, cont_names=cont_names, y_names=y_names, splits=splits)"
   ]
  },
  {
   "cell_type": "code",
   "execution_count": null,
   "id": "fcf199e7-f77d-49fd-aa2b-9e18bccbea1b",
   "metadata": {},
   "outputs": [],
   "source": [
    "dataloader = to.dataloaders(bs=2**17)"
   ]
  },
  {
   "cell_type": "code",
   "execution_count": null,
   "id": "42ac1bf6-6b77-4933-ba60-3c035856a1a4",
   "metadata": {},
   "outputs": [],
   "source": [
    "learn = tabular_learner(dataloader, metrics=rmse)"
   ]
  },
  {
   "cell_type": "code",
   "execution_count": null,
   "id": "5b336ec3-8aec-4d91-adfe-3ab8755db511",
   "metadata": {},
   "outputs": [],
   "source": [
    "learn.lr_find()"
   ]
  },
  {
   "cell_type": "code",
   "execution_count": null,
   "id": "adc9ff2c-b15d-4c33-b840-75f0048f6bee",
   "metadata": {},
   "outputs": [],
   "source": [
    "learn.fit(1, lr=3e-2)"
   ]
  },
  {
   "cell_type": "code",
   "execution_count": null,
   "id": "acf2e6c9-f814-4498-979a-74eaec55f438",
   "metadata": {},
   "outputs": [],
   "source": [
    "learn.fit_one_cycle(10, lr_max=3e-2)"
   ]
  },
  {
   "cell_type": "code",
   "execution_count": null,
   "id": "c1fc6a98-f67f-4609-9b3d-bafd37e4b1b7",
   "metadata": {},
   "outputs": [],
   "source": [
    "learn.export('model_all_2021-07-05.pickle')"
   ]
  }
 ],
 "metadata": {
  "kernelspec": {
   "display_name": "Python 3",
   "language": "python",
   "name": "python3"
  },
  "language_info": {
   "codemirror_mode": {
    "name": "ipython",
    "version": 3
   },
   "file_extension": ".py",
   "mimetype": "text/x-python",
   "name": "python",
   "nbconvert_exporter": "python",
   "pygments_lexer": "ipython3",
   "version": "3.9.5"
  }
 },
 "nbformat": 4,
 "nbformat_minor": 5
}
