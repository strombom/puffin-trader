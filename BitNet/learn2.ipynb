{
 "cells": [
  {
   "cell_type": "code",
   "execution_count": 1,
   "id": "3f300526-3149-4ad2-bd60-df1acb9f3944",
   "metadata": {},
   "outputs": [],
   "source": [
    "from fastai.tabular.all import *\n",
    "import pandas as pd\n",
    "import numpy as np\n",
    "import pickle\n",
    "import os"
   ]
  },
  {
   "cell_type": "code",
   "execution_count": 2,
   "id": "3c09d3e7-a983-4534-b0b8-b21519d562dd",
   "metadata": {},
   "outputs": [],
   "source": [
    "symbols, dfs = [], []\n",
    "training_path = 'E:/BitBot/training_data/'\n",
    "for filename in os.listdir(training_path):\n",
    "    symbols.append(filename.replace('.csv', ''))\n",
    "    dfs.append(pd.read_csv(training_path + filename))"
   ]
  },
  {
   "cell_type": "code",
   "execution_count": 3,
   "id": "7e8008d5-3579-4044-8441-d05d44e7e0f2",
   "metadata": {},
   "outputs": [
    {
     "name": "stdout",
     "output_type": "stream",
     "text": [
      "BCHUSDT (45462, 79)\n",
      "BNBUSDT (42955, 79)\n",
      "BTCUSDT (24393, 79)\n",
      "BTTUSDT (50652, 79)\n",
      "CHZUSDT (73922, 79)\n",
      "DOGEUSDT (62568, 79)\n",
      "EOSUSDT (44122, 79)\n",
      "ETCUSDT (52015, 79)\n",
      "ETHUSDT (36848, 79)\n",
      "LINKUSDT (60245, 79)\n",
      "LTCUSDT (45484, 79)\n",
      "MATICUSDT (73541, 79)\n",
      "NEOUSDT (51166, 79)\n",
      "THETAUSDT (73361, 79)\n",
      "TRXUSDT (42003, 79)\n",
      "VETUSDT (67357, 79)\n",
      "XLMUSDT (52465, 79)\n",
      "XRPUSDT (51318, 79)\n"
     ]
    }
   ],
   "source": [
    "for idx, symbol in enumerate(symbols):\n",
    "    print(symbol, dfs[idx].shape)"
   ]
  },
  {
   "cell_type": "code",
   "execution_count": 4,
   "id": "c366b974-11e1-4e57-83e5-3369012226f6",
   "metadata": {},
   "outputs": [],
   "source": [
    "if False:\n",
    "    splits = RandomSplitter(valid_pct=0.2)(range_of(df))\n",
    "else:\n",
    "    splits = [[], []]\n",
    "    offset = 0\n",
    "    for df in dfs:\n",
    "        length = df.shape[0]\n",
    "        split_pos = int(length * 0.9)\n",
    "        splits[0].extend(list(range(offset, offset + split_pos)))\n",
    "        splits[1].extend(list(range(offset + split_pos, offset + length)))\n",
    "        offset += length\n",
    "df = pd.concat(dfs)"
   ]
  },
  {
   "cell_type": "code",
   "execution_count": 5,
   "id": "79beaa6d-e348-4a5a-a694-971012e4f10b",
   "metadata": {},
   "outputs": [],
   "source": [
    "cat_names = list(df.columns)[-len(symbols)-1:-1]\n",
    "cont_names = list(df.columns)[:-len(symbols)-1]\n",
    "y_names = list(df.columns)[-1:]"
   ]
  },
  {
   "cell_type": "code",
   "execution_count": 6,
   "id": "24026e99-7702-48a8-a4bc-da637778ae60",
   "metadata": {},
   "outputs": [],
   "source": [
    "to = TabularPandas(df, procs=[Categorify], cat_names=cat_names, cont_names=cont_names, y_names=y_names, splits=splits)"
   ]
  },
  {
   "cell_type": "code",
   "execution_count": 7,
   "id": "fcf199e7-f77d-49fd-aa2b-9e18bccbea1b",
   "metadata": {},
   "outputs": [],
   "source": [
    "dataloader = to.dataloaders(bs=2**14)"
   ]
  },
  {
   "cell_type": "code",
   "execution_count": 77,
   "id": "42ac1bf6-6b77-4933-ba60-3c035856a1a4",
   "metadata": {},
   "outputs": [],
   "source": [
    "learn = tabular_learner(dataloader, metrics=rmse)"
   ]
  },
  {
   "cell_type": "code",
   "execution_count": null,
   "id": "5b336ec3-8aec-4d91-adfe-3ab8755db511",
   "metadata": {},
   "outputs": [],
   "source": [
    "learn.lr_find()"
   ]
  },
  {
   "cell_type": "code",
   "execution_count": 61,
   "id": "dd215e48-e21f-4b4a-949c-9ffcbc689f45",
   "metadata": {},
   "outputs": [
    {
     "data": {
      "text/html": [
       "<table border=\"1\" class=\"dataframe\">\n",
       "  <thead>\n",
       "    <tr style=\"text-align: left;\">\n",
       "      <th>epoch</th>\n",
       "      <th>train_loss</th>\n",
       "      <th>valid_loss</th>\n",
       "      <th>_rmse</th>\n",
       "      <th>time</th>\n",
       "    </tr>\n",
       "  </thead>\n",
       "  <tbody>\n",
       "    <tr>\n",
       "      <td>0</td>\n",
       "      <td>1.016328</td>\n",
       "      <td>1.039118</td>\n",
       "      <td>1.019371</td>\n",
       "      <td>00:08</td>\n",
       "    </tr>\n",
       "  </tbody>\n",
       "</table>"
      ],
      "text/plain": [
       "<IPython.core.display.HTML object>"
      ]
     },
     "metadata": {},
     "output_type": "display_data"
    }
   ],
   "source": [
    "learn.fit_one_cycle(1, lr_max=6e-3)"
   ]
  },
  {
   "cell_type": "code",
   "execution_count": 74,
   "id": "94377fb6-e9ac-435b-b8fa-86c4a9204578",
   "metadata": {},
   "outputs": [
    {
     "data": {
      "text/html": [
       "<table border=\"1\" class=\"dataframe\">\n",
       "  <thead>\n",
       "    <tr style=\"text-align: left;\">\n",
       "      <th>epoch</th>\n",
       "      <th>train_loss</th>\n",
       "      <th>valid_loss</th>\n",
       "      <th>_rmse</th>\n",
       "      <th>time</th>\n",
       "    </tr>\n",
       "  </thead>\n",
       "  <tbody>\n",
       "    <tr>\n",
       "      <td>0</td>\n",
       "      <td>1.049504</td>\n",
       "      <td>1.059081</td>\n",
       "      <td>1.029117</td>\n",
       "      <td>00:07</td>\n",
       "    </tr>\n",
       "    <tr>\n",
       "      <td>1</td>\n",
       "      <td>1.008033</td>\n",
       "      <td>1.020303</td>\n",
       "      <td>1.010100</td>\n",
       "      <td>00:07</td>\n",
       "    </tr>\n",
       "    <tr>\n",
       "      <td>2</td>\n",
       "      <td>0.994070</td>\n",
       "      <td>1.020679</td>\n",
       "      <td>1.010287</td>\n",
       "      <td>00:07</td>\n",
       "    </tr>\n",
       "    <tr>\n",
       "      <td>3</td>\n",
       "      <td>0.986788</td>\n",
       "      <td>1.018481</td>\n",
       "      <td>1.009198</td>\n",
       "      <td>00:07</td>\n",
       "    </tr>\n",
       "  </tbody>\n",
       "</table>"
      ],
      "text/plain": [
       "<IPython.core.display.HTML object>"
      ]
     },
     "metadata": {},
     "output_type": "display_data"
    }
   ],
   "source": [
    "learn.fit_one_cycle(4, lr_max=6e-2)"
   ]
  },
  {
   "cell_type": "code",
   "execution_count": 78,
   "id": "a5f0eb2f-2648-4241-ae7f-53b31ce52377",
   "metadata": {},
   "outputs": [
    {
     "data": {
      "text/html": [
       "<table border=\"1\" class=\"dataframe\">\n",
       "  <thead>\n",
       "    <tr style=\"text-align: left;\">\n",
       "      <th>epoch</th>\n",
       "      <th>train_loss</th>\n",
       "      <th>valid_loss</th>\n",
       "      <th>_rmse</th>\n",
       "      <th>time</th>\n",
       "    </tr>\n",
       "  </thead>\n",
       "  <tbody>\n",
       "    <tr>\n",
       "      <td>0</td>\n",
       "      <td>1.024228</td>\n",
       "      <td>1.038421</td>\n",
       "      <td>1.019029</td>\n",
       "      <td>00:07</td>\n",
       "    </tr>\n",
       "    <tr>\n",
       "      <td>1</td>\n",
       "      <td>1.004320</td>\n",
       "      <td>1.015360</td>\n",
       "      <td>1.007651</td>\n",
       "      <td>00:07</td>\n",
       "    </tr>\n",
       "    <tr>\n",
       "      <td>2</td>\n",
       "      <td>0.993553</td>\n",
       "      <td>1.021373</td>\n",
       "      <td>1.010630</td>\n",
       "      <td>00:07</td>\n",
       "    </tr>\n",
       "    <tr>\n",
       "      <td>3</td>\n",
       "      <td>0.985010</td>\n",
       "      <td>1.029855</td>\n",
       "      <td>1.014818</td>\n",
       "      <td>00:07</td>\n",
       "    </tr>\n",
       "    <tr>\n",
       "      <td>4</td>\n",
       "      <td>0.976558</td>\n",
       "      <td>1.025905</td>\n",
       "      <td>1.012869</td>\n",
       "      <td>00:07</td>\n",
       "    </tr>\n",
       "    <tr>\n",
       "      <td>5</td>\n",
       "      <td>0.968069</td>\n",
       "      <td>1.056035</td>\n",
       "      <td>1.027635</td>\n",
       "      <td>00:07</td>\n",
       "    </tr>\n",
       "    <tr>\n",
       "      <td>6</td>\n",
       "      <td>0.957623</td>\n",
       "      <td>1.066301</td>\n",
       "      <td>1.032618</td>\n",
       "      <td>00:07</td>\n",
       "    </tr>\n",
       "    <tr>\n",
       "      <td>7</td>\n",
       "      <td>0.945283</td>\n",
       "      <td>1.071975</td>\n",
       "      <td>1.035362</td>\n",
       "      <td>00:07</td>\n",
       "    </tr>\n",
       "    <tr>\n",
       "      <td>8</td>\n",
       "      <td>0.932318</td>\n",
       "      <td>1.065628</td>\n",
       "      <td>1.032292</td>\n",
       "      <td>00:07</td>\n",
       "    </tr>\n",
       "    <tr>\n",
       "      <td>9</td>\n",
       "      <td>0.920976</td>\n",
       "      <td>1.073353</td>\n",
       "      <td>1.036028</td>\n",
       "      <td>00:07</td>\n",
       "    </tr>\n",
       "  </tbody>\n",
       "</table>"
      ],
      "text/plain": [
       "<IPython.core.display.HTML object>"
      ]
     },
     "metadata": {},
     "output_type": "display_data"
    }
   ],
   "source": [
    "learn.fit_one_cycle(10, lr_max=6e-2)"
   ]
  },
  {
   "cell_type": "code",
   "execution_count": null,
   "id": "56d0f856-7e1a-461d-b76f-cdc80b51c835",
   "metadata": {},
   "outputs": [],
   "source": [
    "learn.show_results(max_n=50)"
   ]
  },
  {
   "cell_type": "code",
   "execution_count": null,
   "id": "05d5befa-4f56-483f-8e60-aae07a8c5800",
   "metadata": {},
   "outputs": [],
   "source": [
    "learn.export('model_all_2021-07-06.pickle')"
   ]
  },
  {
   "cell_type": "code",
   "execution_count": 62,
   "id": "f53ee0c5-072f-40e4-87a5-2335781051a0",
   "metadata": {},
   "outputs": [],
   "source": [
    "df_train, df_val = df.iloc[splits[0]], df.iloc[splits[1]]"
   ]
  },
  {
   "cell_type": "code",
   "execution_count": 63,
   "id": "0666a5df-43bf-4479-9b86-9ca18b7a2287",
   "metadata": {},
   "outputs": [],
   "source": [
    "dl_train = DataLoader(dataset=df.iloc[splits[0]])\n",
    "df_val = DataLoader(dataset=df.iloc[splits[1]])"
   ]
  },
  {
   "cell_type": "code",
   "execution_count": 64,
   "id": "deeddded-0c9c-46ff-ba2d-e179266d1df5",
   "metadata": {},
   "outputs": [],
   "source": [
    "#to = TabularPandas(df, procs=[Categorify], cat_names=cat_names, cont_names=cont_names, y_names=y_names, splits=splits)\n",
    "#dls = TabularDataLoaders.from_df(df, procs=[Categorify], cat_names=cat_names, cont_names=cont_names, y_names=y_names)"
   ]
  },
  {
   "cell_type": "code",
   "execution_count": 79,
   "id": "830d6fea-66bd-444e-ad02-2a3503c15385",
   "metadata": {},
   "outputs": [],
   "source": [
    "dl_train = learn.dls.test_dl(df_train)\n",
    "dl_val = learn.dls.test_dl(df_val)"
   ]
  },
  {
   "cell_type": "code",
   "execution_count": 80,
   "id": "d340c8f9-eaec-4ee0-8a5c-d0086c49e0ed",
   "metadata": {},
   "outputs": [
    {
     "data": {
      "text/html": [],
      "text/plain": [
       "<IPython.core.display.HTML object>"
      ]
     },
     "metadata": {},
     "output_type": "display_data"
    },
    {
     "data": {
      "text/html": [],
      "text/plain": [
       "<IPython.core.display.HTML object>"
      ]
     },
     "metadata": {},
     "output_type": "display_data"
    }
   ],
   "source": [
    "pred_train, gt_train = learn.get_preds(dl=dl_train)\n",
    "pred_val, gt_val = learn.get_preds(dl=dl_val)\n",
    "import pickle\n",
    "with open('preds.pickle', 'wb') as f:\n",
    "    pickle.dump({\n",
    "        'pred_train': pred_train.squeeze(),\n",
    "        'gt_train': gt_train.squeeze(),\n",
    "        'pred_val': pred_val.squeeze(),\n",
    "        'gt_val': gt_val.squeeze()\n",
    "    }, f)"
   ]
  },
  {
   "cell_type": "code",
   "execution_count": 53,
   "id": "a75d009a-8c18-4a94-bd69-6aa405f3a477",
   "metadata": {},
   "outputs": [
    {
     "data": {
      "text/plain": [
       "torch.Size([94998])"
      ]
     },
     "execution_count": 53,
     "metadata": {},
     "output_type": "execute_result"
    }
   ],
   "source": [
    "pred_val.squeeze().shape"
   ]
  },
  {
   "cell_type": "code",
   "execution_count": null,
   "id": "f56e644a-eaeb-4cb2-893d-42954c88015b",
   "metadata": {},
   "outputs": [],
   "source": []
  },
  {
   "cell_type": "code",
   "execution_count": null,
   "id": "7a1147fd-5558-4b0f-ae6f-3d4e02a836b2",
   "metadata": {},
   "outputs": [],
   "source": [
    "indices = (pred > 0.2).nonzero()[:, 0]\n",
    "pred_a, gt_a = pred[indices], gt[indices]"
   ]
  },
  {
   "cell_type": "code",
   "execution_count": null,
   "id": "c5a1998b-3a56-48e6-8ece-76cca9b3dbbc",
   "metadata": {},
   "outputs": [],
   "source": [
    "from matplotlib import pyplot as plt\n",
    "plt.plot(pred_a)\n",
    "plt.plot(gt_a)"
   ]
  },
  {
   "cell_type": "code",
   "execution_count": null,
   "id": "4c553f25-0e45-446c-8573-954f44cea4e7",
   "metadata": {},
   "outputs": [],
   "source": []
  }
 ],
 "metadata": {
  "kernelspec": {
   "display_name": "Python 3 (ipykernel)",
   "language": "python",
   "name": "python3"
  },
  "language_info": {
   "codemirror_mode": {
    "name": "ipython",
    "version": 3
   },
   "file_extension": ".py",
   "mimetype": "text/x-python",
   "name": "python",
   "nbconvert_exporter": "python",
   "pygments_lexer": "ipython3",
   "version": "3.9.7"
  }
 },
 "nbformat": 4,
 "nbformat_minor": 5
}
