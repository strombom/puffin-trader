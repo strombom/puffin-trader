{
 "cells": [
  {
   "cell_type": "code",
   "execution_count": null,
   "id": "handed-porter",
   "metadata": {},
   "outputs": [],
   "source": [
    "import tsai\n",
    "import pandas as pd\n",
    "from tsai.all import *\n",
    "print('tsai       :', tsai.__version__)\n",
    "print('fastai     :', fastai.__version__)\n",
    "print('fastcore   :', fastcore.__version__)\n",
    "print('torch      :', torch.__version__)"
   ]
  },
  {
   "cell_type": "code",
   "execution_count": null,
   "id": "opposed-mileage",
   "metadata": {},
   "outputs": [],
   "source": [
    "X, y, splits = get_regression_data('AppliancesEnergy', split_data=False)\n",
    "X.shape, y.shape, y[:10]\n",
    "splits"
   ]
  },
  {
   "cell_type": "code",
   "execution_count": null,
   "id": "handy-independence",
   "metadata": {},
   "outputs": [],
   "source": [
    "X.shape"
   ]
  },
  {
   "cell_type": "code",
   "execution_count": null,
   "id": "helpful-worth",
   "metadata": {},
   "outputs": [],
   "source": [
    "type(X), type(y), type(splits[0])"
   ]
  },
  {
   "cell_type": "code",
   "execution_count": null,
   "id": "strategic-ground",
   "metadata": {},
   "outputs": [],
   "source": [
    "check_data(X, y, splits)"
   ]
  },
  {
   "cell_type": "code",
   "execution_count": null,
   "id": "identified-december",
   "metadata": {},
   "outputs": [],
   "source": [
    "tfms  = [None, [TSRegression()]]\n",
    "batch_tfms = TSStandardize(by_sample=True, by_var=True)\n",
    "dls = get_ts_dls(X, y, splits=splits, tfms=tfms, batch_tfms=batch_tfms, bs=128)\n",
    "dls.one_batch()"
   ]
  },
  {
   "cell_type": "code",
   "execution_count": null,
   "id": "finished-interference",
   "metadata": {},
   "outputs": [],
   "source": [
    "dls.c"
   ]
  },
  {
   "cell_type": "code",
   "execution_count": null,
   "id": "retired-inspector",
   "metadata": {},
   "outputs": [],
   "source": [
    "dls.show_batch()"
   ]
  },
  {
   "cell_type": "code",
   "execution_count": null,
   "id": "acceptable-night",
   "metadata": {},
   "outputs": [],
   "source": [
    "learn = ts_learner(dls, InceptionTime, metrics=[mae, rmse], cbs=ShowGraph())"
   ]
  },
  {
   "cell_type": "code",
   "execution_count": null,
   "id": "focused-athens",
   "metadata": {},
   "outputs": [],
   "source": [
    "learn.lr_find()"
   ]
  },
  {
   "cell_type": "code",
   "execution_count": null,
   "id": "stopped-suffering",
   "metadata": {},
   "outputs": [],
   "source": [
    "learn.loss_func"
   ]
  },
  {
   "cell_type": "code",
   "execution_count": null,
   "id": "optical-studio",
   "metadata": {},
   "outputs": [],
   "source": [
    "learn.fit_one_cycle(50, 1e-2)"
   ]
  },
  {
   "cell_type": "code",
   "execution_count": null,
   "id": "gorgeous-advancement",
   "metadata": {},
   "outputs": [],
   "source": [
    "valid_preds, valid_targets = learn.get_preds(ds_idx=1)\n",
    "valid_preds.flatten().data, valid_targets.data"
   ]
  },
  {
   "cell_type": "code",
   "execution_count": null,
   "id": "verified-computer",
   "metadata": {},
   "outputs": [],
   "source": [
    "import matplotlib.pyplot as plt"
   ]
  },
  {
   "cell_type": "code",
   "execution_count": null,
   "id": "acting-change",
   "metadata": {},
   "outputs": [],
   "source": [
    "plt.plot(valid_preds.flatten().data)\n",
    "plt.plot(valid_targets.data)"
   ]
  },
  {
   "cell_type": "code",
   "execution_count": null,
   "id": "loved-sheep",
   "metadata": {},
   "outputs": [],
   "source": []
  }
 ],
 "metadata": {
  "kernelspec": {
   "display_name": "Python 3",
   "language": "python",
   "name": "python3"
  },
  "language_info": {
   "codemirror_mode": {
    "name": "ipython",
    "version": 3
   },
   "file_extension": ".py",
   "mimetype": "text/x-python",
   "name": "python",
   "nbconvert_exporter": "python",
   "pygments_lexer": "ipython3",
   "version": "3.9.5"
  }
 },
 "nbformat": 4,
 "nbformat_minor": 5
}
