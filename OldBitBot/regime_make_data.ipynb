{
 "cells": [
  {
   "cell_type": "code",
   "execution_count": null,
   "id": "decreased-adrian",
   "metadata": {},
   "outputs": [],
   "source": [
    "import pandas as pd\n",
    "import numpy as np\n",
    "import fastcore\n",
    "import math\n",
    "from tsai.all import *"
   ]
  },
  {
   "cell_type": "code",
   "execution_count": null,
   "id": "waiting-grace",
   "metadata": {},
   "outputs": [],
   "source": [
    "lengths = pd.read_csv('../tmp/regime_data_lengths.csv')\n",
    "regime_data = pd.read_csv('../tmp/regime_data.csv')"
   ]
  },
  {
   "cell_type": "code",
   "execution_count": null,
   "id": "geological-visiting",
   "metadata": {},
   "outputs": [],
   "source": [
    "regime_data['duration'] /= 100000000\n",
    "regime_data['volume'] /= 2000\n",
    "regime_data['delta'] /= 0.008<\n",
    "regime_data"
   ]
  },
  {
   "cell_type": "code",
   "execution_count": null,
   "id": "passing-saudi",
   "metadata": {},
   "outputs": [],
   "source": [
    "regime_data_raw = regime_data.to_numpy()[:, 2:]\n",
    "regime_data_deltas = regime_data.to_numpy()[:, 2]\n",
    "print(regime_data_raw.shape, regime_data_deltas.shape)"
   ]
  },
  {
   "cell_type": "code",
   "execution_count": null,
   "id": "broken-wrestling",
   "metadata": {},
   "outputs": [],
   "source": [
    "n_history = 20\n",
    "n_future = 20\n",
    "step_length = 1\n",
    "n_samples = (regime_data.shape[0] - (n_history + n_future)) // step_length\n",
    "print(n_samples)\n",
    "X = np.empty((n_samples, regime_data.shape[1] - 2, n_history))\n",
    "y = np.empty((n_samples, regime_data.shape[1] - 2, n_future))\n",
    "for sample_idx in range(n_samples):\n",
    "    X[sample_idx] = regime_data_raw[sample_idx * step_length:sample_idx * step_length + n_history, :].transpose()\n",
    "    y[sample_idx] = regime_data_raw[sample_idx * step_length + n_history:sample_idx * step_length + n_history + n_future, :].transpose()\n",
    "#y = np.where(y >= 0, 1.0, -1.0)\n",
    "split_idx = math.floor(n_samples * 0.85)\n",
    "splits = toL(np.arange(split_idx)), toL(np.arange(split_idx, n_samples))"
   ]
  },
  {
   "cell_type": "code",
   "execution_count": null,
   "id": "instructional-southwest",
   "metadata": {},
   "outputs": [],
   "source": [
    "X.shape, y.shape, splits"
   ]
  },
  {
   "cell_type": "code",
   "execution_count": null,
   "id": "elder-group",
   "metadata": {},
   "outputs": [],
   "source": [
    "type(X), type(y), type(splits[0])"
   ]
  },
  {
   "cell_type": "code",
   "execution_count": null,
   "id": "danish-liquid",
   "metadata": {},
   "outputs": [],
   "source": [
    "check_data(X, y, splits)"
   ]
  },
  {
   "cell_type": "code",
   "execution_count": null,
   "id": "monetary-coach",
   "metadata": {},
   "outputs": [],
   "source": [
    "tfms  = [None, [TSRegression()]]\n",
    "batch_tfms = TSStandardize(by_sample=True, by_var=True)\n",
    "dls = get_ts_dls(X, y, splits=splits, tfms=tfms, batch_tfms=batch_tfms, bs=256)\n",
    "dls.one_batch()"
   ]
  },
  {
   "cell_type": "code",
   "execution_count": null,
   "id": "elementary-school",
   "metadata": {},
   "outputs": [],
   "source": [
    "dls.show_batch()"
   ]
  },
  {
   "cell_type": "code",
   "execution_count": null,
   "id": "appreciated-pride",
   "metadata": {},
   "outputs": [],
   "source": [
    "learn = ts_learner(dls, TSTPlus, metrics=[mae, rmse], cbs=ShowGraph())"
   ]
  },
  {
   "cell_type": "code",
   "execution_count": null,
   "id": "vulnerable-israeli",
   "metadata": {},
   "outputs": [],
   "source": [
    "learn.lr_find()"
   ]
  },
  {
   "cell_type": "code",
   "execution_count": null,
   "id": "loving-maine",
   "metadata": {},
   "outputs": [],
   "source": [
    "learn.loss_func"
   ]
  },
  {
   "cell_type": "code",
   "execution_count": null,
   "id": "secure-impression",
   "metadata": {},
   "outputs": [],
   "source": [
    "learn.fit_one_cycle(10, 1e-4)"
   ]
  },
  {
   "cell_type": "code",
   "execution_count": null,
   "id": "portable-elite",
   "metadata": {},
   "outputs": [],
   "source": [
    "valid_preds, valid_targets = learn.get_preds(ds_idx=1)\n",
    "valid_preds.flatten().data, valid_targets.data"
   ]
  },
  {
   "cell_type": "code",
   "execution_count": null,
   "id": "senior-sharp",
   "metadata": {},
   "outputs": [],
   "source": [
    "import matplotlib.pyplot as plt\n",
    "n = 100\n",
    "#p = np.where(valid_preds.data[n:n+30]*3 >= 0, 1.0, -1.0)\n",
    "p = valid_preds.data[n:n+100, 4]\n",
    "t = valid_targets.data[n:n+100, 4]\n",
    "plt.plot(p, label='Pred')\n",
    "plt.plot(t, label='Target')\n",
    "plt.legend()"
   ]
  },
  {
   "cell_type": "code",
   "execution_count": null,
   "id": "assured-crash",
   "metadata": {},
   "outputs": [],
   "source": [
    "learn.save_all('regime_model')"
   ]
  },
  {
   "cell_type": "code",
   "execution_count": null,
   "id": "described-segment",
   "metadata": {},
   "outputs": [],
   "source": [
    "learn2 = load_learner_all('regime_model')\n",
    "learn2.freeze()"
   ]
  },
  {
   "cell_type": "code",
   "execution_count": null,
   "id": "mathematical-annex",
   "metadata": {},
   "outputs": [],
   "source": [
    "targets = []\n",
    "predictions = []\n",
    "\n",
    "datas = regime_data.to_numpy()[:, 2:]\n",
    "datas.shape\n",
    "for idx in range(1000, 1010):\n",
    "    frame = datas[idx-n_timesteps:idx].transpose()\n",
    "    target = datas[idx][0]\n",
    "    prediction = learn2.get_X_preds(frame)[0][0][0]\n",
    "    targets.append(target)\n",
    "    predictions.append(prediction)\n",
    "targets = np.array(targets)\n",
    "predictions = np.array(predictions)\n",
    "\n",
    "import matplotlib.pyplot as plt\n",
    "n = 50\n",
    "plt.plot(predictions, label='Pred')\n",
    "plt.plot(targets, label='Target')\n",
    "plt.legend()"
   ]
  },
  {
   "cell_type": "code",
   "execution_count": null,
   "id": "thrown-parking",
   "metadata": {},
   "outputs": [],
   "source": [
    "regime_data"
   ]
  },
  {
   "cell_type": "code",
   "execution_count": null,
   "id": "accomplished-might",
   "metadata": {},
   "outputs": [],
   "source": [
    "idx = 9\n",
    "a = np.expand_dims(regime_data_raw[idx - n_timesteps + 1:idx + 1, :].transpose(), axis=0)\n",
    "#a = regime_data_raw[idx - n_timesteps + 1:idx + 1, :].transpose()\n",
    "a.shape"
   ]
  },
  {
   "cell_type": "code",
   "execution_count": null,
   "id": "according-azerbaijan",
   "metadata": {},
   "outputs": [],
   "source": [
    "result = learn2.get_X_preds(a)"
   ]
  },
  {
   "cell_type": "code",
   "execution_count": null,
   "id": "ultimate-disco",
   "metadata": {},
   "outputs": [],
   "source": [
    "result[0]"
   ]
  },
  {
   "cell_type": "code",
   "execution_count": null,
   "id": "applicable-atlanta",
   "metadata": {},
   "outputs": [],
   "source": [
    "valid_preds, valid_targets = learn2.get_preds(ds_idx=1)\n",
    "valid_preds.flatten().data, valid_targets.data"
   ]
  },
  {
   "cell_type": "code",
   "execution_count": null,
   "id": "anticipated-gateway",
   "metadata": {},
   "outputs": [],
   "source": [
    "import matplotlib.pyplot as plt\n",
    "n = 50\n",
    "plt.plot(valid_preds.data[:n, 0], label='Pred')\n",
    "plt.plot(valid_targets.data[:n, 0], label='Target')\n",
    "plt.legend()"
   ]
  },
  {
   "cell_type": "code",
   "execution_count": null,
   "id": "classified-ministry",
   "metadata": {},
   "outputs": [],
   "source": []
  }
 ],
 "metadata": {
  "kernelspec": {
   "display_name": "Python 3",
   "language": "python",
   "name": "python3"
  },
  "language_info": {
   "codemirror_mode": {
    "name": "ipython",
    "version": 3
   },
   "file_extension": ".py",
   "mimetype": "text/x-python",
   "name": "python",
   "nbconvert_exporter": "python",
   "pygments_lexer": "ipython3",
   "version": "3.9.5"
  }
 },
 "nbformat": 4,
 "nbformat_minor": 5
}
